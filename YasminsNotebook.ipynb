{
 "cells": [
  {
   "cell_type": "markdown",
   "id": "422b3a39",
   "metadata": {},
   "source": [
    "# My Jupyter Notebook on IBM Watson Studio"
   ]
  },
  {
   "cell_type": "markdown",
   "id": "2ddd94a7",
   "metadata": {},
   "source": [
    "**Yasmin Selic**\n",
    "\n",
    "Data Scientist"
   ]
  },
  {
   "cell_type": "markdown",
   "id": "281c4e77",
   "metadata": {},
   "source": [
    "*I want to be a Data Scientist so I can help to improve the software and user interface of analytical devices.*"
   ]
  },
  {
   "cell_type": "markdown",
   "id": "bcb532bd",
   "metadata": {},
   "source": [
    "### The cell below should print the result of 2 + 3"
   ]
  },
  {
   "cell_type": "code",
   "execution_count": 2,
   "id": "49791ca8",
   "metadata": {},
   "outputs": [
    {
     "name": "stdout",
     "output_type": "stream",
     "text": [
      "5\n"
     ]
    }
   ],
   "source": [
    "x = 2 +3 \n",
    "print(x)"
   ]
  },
  {
   "cell_type": "markdown",
   "id": "356fc372",
   "metadata": {},
   "source": [
    "* bullet list\n",
    "* bullet list\n",
    "* bullet list\n",
    "\n",
    "1. numbered list\n",
    "2. numbered list\n",
    "3. numbered list\n",
    "\n",
    "`Here is some code!`\n",
    "\n",
    "***\n",
    "important text\n",
    "***\n",
    "\n",
    "<a href=\"https://www.coursera.org\" target=\"_blank\">this link</a>"
   ]
  },
  {
   "cell_type": "code",
   "execution_count": null,
   "id": "cabfb0cf",
   "metadata": {},
   "outputs": [],
   "source": []
  }
 ],
 "metadata": {
  "kernelspec": {
   "display_name": "Python 3",
   "language": "python",
   "name": "python3"
  },
  "language_info": {
   "codemirror_mode": {
    "name": "ipython",
    "version": 3
   },
   "file_extension": ".py",
   "mimetype": "text/x-python",
   "name": "python",
   "nbconvert_exporter": "python",
   "pygments_lexer": "ipython3",
   "version": "3.7.9"
  }
 },
 "nbformat": 4,
 "nbformat_minor": 5
}
